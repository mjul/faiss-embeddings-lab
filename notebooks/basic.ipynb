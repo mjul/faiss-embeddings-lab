{
 "cells": [
  {
   "cell_type": "code",
   "execution_count": null,
   "metadata": {
    "collapsed": true
   },
   "outputs": [],
   "source": [
    "import pathlib\n",
    "import faiss\n",
    "import numpy as np\n",
    "from transformers import AutoTokenizer, AutoModel\n",
    "import torch"
   ]
  },
  {
   "cell_type": "code",
   "execution_count": null,
   "outputs": [],
   "source": [
    "MODEL_DIR = pathlib.Path().absolute().parent / \"models\""
   ],
   "metadata": {
    "collapsed": false
   }
  },
  {
   "cell_type": "code",
   "execution_count": null,
   "outputs": [],
   "source": [
    "# Define the device to use, using a CUDA GPU if available.\n",
    "device = torch.device(\"cuda\" if torch.cuda.is_available() else \"cpu\")\n",
    "\n",
    "# Load the pre-trained tokenizer and model\n",
    "tokenizer = AutoTokenizer.from_pretrained('bert-base-uncased', cache_dir=MODEL_DIR)\n",
    "model = AutoModel.from_pretrained('bert-base-uncased').to(device)"
   ],
   "metadata": {
    "collapsed": false
   }
  },
  {
   "cell_type": "code",
   "execution_count": null,
   "outputs": [],
   "source": [
    "SONNET18 = [\n",
    "    \"Shall I compare thee to a summer’s day?\",\n",
    "    \"Thou art more lovely and more temperate:\",\n",
    "    \"Rough winds do shake the darling buds of May,\",\n",
    "    \"And summer’s lease hath all too short a date;\",\n",
    "    \"Sometime too hot the eye of heaven shines,\",\n",
    "    \"And often is his gold complexion dimm'd;\",\n",
    "    \"And every fair from fair sometime declines,\",\n",
    "    \"By chance or nature’s changing course untrimm'd;\",\n",
    "    \"But thy eternal summer shall not fade,\",\n",
    "    \"Nor lose possession of that fair thou ow’st;\",\n",
    "    \"Nor shall death brag thou wander’st in his shade,\",\n",
    "    \"When in eternal lines to time thou grow’st:\",\n",
    "    \"So long as men can breathe or eyes can see,\",\n",
    "    \"So long lives this, and this gives life to thee.\"\n",
    "]\n",
    "\n",
    "SONNET30 = [\n",
    "    \"When to the sessions of sweet silent thought\",\n",
    "    \"I summon up remembrance of things past,\",\n",
    "    \"I sigh the lack of many a thing I sought,\",\n",
    "    \"And with old woes new wail my dear time’s waste:\",\n",
    "    \"Then can I drown an eye, unused to flow,\",\n",
    "    \"For precious friends hid in death’s dateless night,\",\n",
    "    \"And weep afresh love’s long since cancell’d woe,\",\n",
    "    \"And moan the expense of many a vanish’d sight:\",\n",
    "    \"Then can I grieve at grievances foregone,\",\n",
    "    \"And heavily from woe to woe tell o’er\",\n",
    "    \"The sad account of fore-bemoaned moan,\",\n",
    "    \"Which I new pay as if not paid before.\",\n",
    "    \"But if the while I think on thee, dear friend,\",\n",
    "    \"All losses are restor’d and sorrows end.\"\n",
    "]"
   ],
   "metadata": {
    "collapsed": false
   }
  },
  {
   "cell_type": "code",
   "execution_count": null,
   "outputs": [],
   "source": [
    "sentences = [line.lower() for sonnet in [SONNET18, SONNET30] for line in sonnet]"
   ],
   "metadata": {
    "collapsed": false
   }
  },
  {
   "cell_type": "code",
   "execution_count": null,
   "outputs": [],
   "source": [
    "def encode(strs):\n",
    "    encoded_input = tokenizer(strs, padding=True, truncation=True, return_tensors=\"pt\")\n",
    "    encoded_input = {k: v.to(device) for k, v in encoded_input.items()}\n",
    "    model_output = model(**encoded_input)\n",
    "    return model_output.last_hidden_state[:, 0, :].detach().cpu().numpy()"
   ],
   "metadata": {
    "collapsed": false
   }
  },
  {
   "cell_type": "code",
   "execution_count": null,
   "outputs": [],
   "source": [
    "sentence_embeddings = encode(sentences)\n",
    "sentence_embeddings.shape"
   ],
   "metadata": {
    "collapsed": false
   }
  },
  {
   "cell_type": "code",
   "execution_count": null,
   "outputs": [],
   "source": [
    "d = sentence_embeddings.shape[1]\n",
    "index = faiss.IndexFlatL2(d)"
   ],
   "metadata": {
    "collapsed": false
   }
  },
  {
   "cell_type": "code",
   "execution_count": null,
   "outputs": [],
   "source": [
    "index.add(sentence_embeddings)"
   ],
   "metadata": {
    "collapsed": false
   }
  },
  {
   "cell_type": "code",
   "execution_count": null,
   "outputs": [],
   "source": [
    "k = 5\n",
    "xq = encode([\"remembering the past\"])\n",
    "D, I = index.search(xq, k)\n",
    "print(D, I)\n",
    "for i in I[0]:\n",
    "    print(i, sentences[i])"
   ],
   "metadata": {
    "collapsed": false
   }
  },
  {
   "cell_type": "code",
   "execution_count": null,
   "outputs": [],
   "source": [],
   "metadata": {
    "collapsed": false
   }
  }
 ],
 "metadata": {
  "kernelspec": {
   "display_name": "Python 3",
   "language": "python",
   "name": "python3"
  },
  "language_info": {
   "codemirror_mode": {
    "name": "ipython",
    "version": 2
   },
   "file_extension": ".py",
   "mimetype": "text/x-python",
   "name": "python",
   "nbconvert_exporter": "python",
   "pygments_lexer": "ipython2",
   "version": "2.7.6"
  }
 },
 "nbformat": 4,
 "nbformat_minor": 0
}
